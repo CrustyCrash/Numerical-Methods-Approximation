{
 "cells": [
  {
   "cell_type": "code",
   "execution_count": 34,
   "metadata": {},
   "outputs": [
    {
     "name": "stdout",
     "output_type": "stream",
     "text": [
      "526.7237279563109\n",
      "(526.75, 5.848099782213012e-12)\n",
      "error =  [ 2.62720437e-02 -5.26723728e+02]\n"
     ]
    }
   ],
   "source": [
    "import numpy as np\n",
    "from scipy import integrate\n",
    "\n",
    "s = lambda x: abs(x**3 + 6*x**2 -x +17)\n",
    "\n",
    "sum = 0\n",
    "a = -2 # lower limit\n",
    "b = 5 # upper limit\n",
    "len = (b-a) # length of rectangle\n",
    "\n",
    "points = np.random.uniform(a,b,1000000) # generating 50,000 points from a,b using uniform distribution\n",
    "height = s(points) # calculating width(height) for every point generated\n",
    "\n",
    "for i in height:\n",
    " \n",
    "    sum += i * len # adding all the areas for each rectangles generated\n",
    "\n",
    "final_area = sum/1000000 # calculating mean of the entire area generated\n",
    "sci_area = integrate.quad(lambda x: abs(x**3 + 6*x**2 -x +17),a,b) # verifying the area using scipy\n",
    "print(final_area)\n",
    "print(sci_area)\n",
    "print(\"error = \", sci_area - final_area)"
   ]
  }
 ],
 "metadata": {
  "kernelspec": {
   "display_name": "base",
   "language": "python",
   "name": "python3"
  },
  "language_info": {
   "codemirror_mode": {
    "name": "ipython",
    "version": 3
   },
   "file_extension": ".py",
   "mimetype": "text/x-python",
   "name": "python",
   "nbconvert_exporter": "python",
   "pygments_lexer": "ipython3",
   "version": "3.11.7"
  }
 },
 "nbformat": 4,
 "nbformat_minor": 2
}
