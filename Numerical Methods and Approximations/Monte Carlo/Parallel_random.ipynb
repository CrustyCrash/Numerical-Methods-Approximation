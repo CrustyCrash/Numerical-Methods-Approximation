{
 "cells": [
  {
   "cell_type": "code",
   "execution_count": 4,
   "metadata": {},
   "outputs": [
    {
     "data": {
      "text/plain": [
       "(array([1285796126, 3541610823,  731823215, 4208882038], dtype=uint32),\n",
       " array([4022391067,  582354628,  429889619, 4110564718], dtype=uint32),\n",
       " [Generator(PCG64) at 0x17D0FC39700,\n",
       "  Generator(PCG64) at 0x17D0FC3AB20,\n",
       "  Generator(PCG64) at 0x17D0FC39E00,\n",
       "  Generator(PCG64) at 0x17D0FC3A6C0,\n",
       "  Generator(PCG64) at 0x17D0FC3A260,\n",
       "  Generator(PCG64) at 0x17D0FC3AC00,\n",
       "  Generator(PCG64) at 0x17D0FC3AEA0,\n",
       "  Generator(PCG64) at 0x17D0FC3B060,\n",
       "  Generator(PCG64) at 0x17D0FC39FC0,\n",
       "  Generator(PCG64) at 0x17D0FC3B220])"
      ]
     },
     "execution_count": 4,
     "metadata": {},
     "output_type": "execute_result"
    }
   ],
   "source": [
    "from numpy.random import SeedSequence, default_rng\n",
    "ss = SeedSequence(12632)\n",
    "# Spawn off 100 child SeedSequences to pass to child process\n",
    "child_seed = ss.spawn(10)\n",
    "streams = [default_rng(s) for s in child_seed]\n",
    "grandchildren = child_seed[0].spawn(4)\n",
    "grand_streams = [default_rng(s) for s in grandchildren]\n",
    "grandchildren[0].pool, grandchildren[1].pool, streams"
   ]
  }
 ],
 "metadata": {
  "kernelspec": {
   "display_name": "base",
   "language": "python",
   "name": "python3"
  },
  "language_info": {
   "codemirror_mode": {
    "name": "ipython",
    "version": 3
   },
   "file_extension": ".py",
   "mimetype": "text/x-python",
   "name": "python",
   "nbconvert_exporter": "python",
   "pygments_lexer": "ipython3",
   "version": "3.11.7"
  }
 },
 "nbformat": 4,
 "nbformat_minor": 2
}
